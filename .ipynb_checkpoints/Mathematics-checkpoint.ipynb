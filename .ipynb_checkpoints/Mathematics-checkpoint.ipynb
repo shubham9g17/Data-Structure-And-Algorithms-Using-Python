{
 "cells": [
  {
   "cell_type": "markdown",
   "metadata": {},
   "source": [
    "# Learn"
   ]
  },
  {
   "cell_type": "markdown",
   "metadata": {},
   "source": [
    "__`Calculate No. of digits in a number`__"
   ]
  },
  {
   "cell_type": "code",
   "execution_count": 1,
   "metadata": {},
   "outputs": [
    {
     "data": {
      "text/plain": [
       "4"
      ]
     },
     "execution_count": 1,
     "metadata": {},
     "output_type": "execute_result"
    }
   ],
   "source": [
    "def no_digits(n):\n",
    "    if n==0:\n",
    "        return 1\n",
    "    count=0\n",
    "    while(n!=0):\n",
    "        n=n//10\n",
    "        count+=1\n",
    "    return count\n",
    "no_digits(1321)\n",
    "# O(count) time        \n",
    " \n",
    "    "
   ]
  },
  {
   "cell_type": "code",
   "execution_count": 2,
   "metadata": {},
   "outputs": [
    {
     "data": {
      "text/plain": [
       "4"
      ]
     },
     "execution_count": 2,
     "metadata": {},
     "output_type": "execute_result"
    }
   ],
   "source": [
    "import math\n",
    "def no_digits_OP(n):\n",
    "    if n==0:\n",
    "        return 1\n",
    "    return math.floor(math.log10(n))+1\n",
    "\n",
    "no_digits_OP(2113)  \n",
    "# O(1) Time"
   ]
  },
  {
   "cell_type": "markdown",
   "metadata": {},
   "source": [
    "__`Calculate the nth term and sum of the AP`__"
   ]
  },
  {
   "cell_type": "code",
   "execution_count": 3,
   "metadata": {},
   "outputs": [
    {
     "data": {
      "text/plain": [
       "15.0"
      ]
     },
     "execution_count": 3,
     "metadata": {},
     "output_type": "execute_result"
    }
   ],
   "source": [
    "def AP_nth(a,d,n):\n",
    "    return a+d*(n-1)\n",
    "def AP_sum(a,d,n):\n",
    "    return (n/2*(a+ AP_nth(a,d,n)))\n",
    "AP_sum(1,1,5)"
   ]
  },
  {
   "cell_type": "markdown",
   "metadata": {},
   "source": [
    "__`Calculate the nth term and sum of the GP`__"
   ]
  },
  {
   "cell_type": "code",
   "execution_count": 4,
   "metadata": {},
   "outputs": [
    {
     "name": "stdout",
     "output_type": "stream",
     "text": [
      "1600\n",
      "3100.0\n"
     ]
    }
   ],
   "source": [
    "def GP_nth(a,r,n):\n",
    "    return a*r**(n-1)\n",
    "def GP_sum(a,r,n):\n",
    "    if r>0:\n",
    "        return a*(r**n-1)/(r-1)\n",
    "    else:\n",
    "        return a*(1-r**n)/(1-r)\n",
    "print(GP_nth(100,2,5))\n",
    "print(GP_sum(100,2,5))"
   ]
  },
  {
   "cell_type": "markdown",
   "metadata": {},
   "source": [
    "__`Calculate the roots of a Quadratic Eqn`__"
   ]
  },
  {
   "cell_type": "code",
   "execution_count": 5,
   "metadata": {},
   "outputs": [
    {
     "name": "stdout",
     "output_type": "stream",
     "text": [
      "3 1\n"
     ]
    }
   ],
   "source": [
    "import math\n",
    "##Complete this function\n",
    "def quadraticRoots(a,b,c):\n",
    "    is_imaginary=False\n",
    "    D=(b**2)-4*a*c\n",
    "    \n",
    "    if D<0:\n",
    "        is_imaginary=True\n",
    "    if is_imaginary:\n",
    "         print(\"Imaginary\")\n",
    "         \n",
    "    else:\n",
    "        a,b=math.floor((-b+D**0.5)/(2.0*a)),math.floor((-b-D**0.5)/(2.0*a))\n",
    "        \n",
    "        print(max(a,b),min(a,b))\n",
    "quadraticRoots(1,-4,3)"
   ]
  },
  {
   "cell_type": "markdown",
   "metadata": {},
   "source": [
    "__`Calculate mean,median,mode`__"
   ]
  },
  {
   "cell_type": "code",
   "execution_count": 6,
   "metadata": {},
   "outputs": [
    {
     "name": "stdout",
     "output_type": "stream",
     "text": [
      "3.5\n",
      "3.5\n",
      "3\n"
     ]
    }
   ],
   "source": [
    "import statistics\n",
    "def find_mean(L):\n",
    "    return sum(L)/len(L)\n",
    "def find_median(L):\n",
    "    L.sort()\n",
    "    if(len(L)&1==0):#even\n",
    "        return (L[len(L)//2-1]+L[len(L)//2])/2\n",
    "    if(len(L)&1==1):\n",
    "        return L[len(L)//2]\n",
    "def find_mode(L):\n",
    "    return statistics.mode(L)\n",
    "print(find_mean([3,4,5,6,2,1]))\n",
    "print(find_median([3,4,5,6,2,1]))\n",
    "print(find_mode([3,4,5,6,2,1]))    "
   ]
  },
  {
   "cell_type": "markdown",
   "metadata": {},
   "source": [
    "__`Generate Prime number between given Range`__"
   ]
  },
  {
   "cell_type": "code",
   "execution_count": 7,
   "metadata": {},
   "outputs": [
    {
     "data": {
      "text/plain": [
       "8363"
      ]
     },
     "execution_count": 7,
     "metadata": {},
     "output_type": "execute_result"
    }
   ],
   "source": [
    "def generate_prime(L,H):\n",
    "    s1=set(range(2,L))\n",
    "    s2=set(range(2,H+1))\n",
    "    S1=set()\n",
    "    S2=set()\n",
    "    while s1:\n",
    "        prime=min(s1)\n",
    "        S1.add(prime)\n",
    "        s1-=set(range(prime,L,prime))\n",
    "    while s2:\n",
    "        prime=min(s2)\n",
    "        S2.add(prime)\n",
    "        s2-=set(range(prime,H+1,prime))\n",
    "    return len(S2-S1)\n",
    "    \n",
    "        \n",
    "generate_prime(10000,100000)    "
   ]
  },
  {
   "cell_type": "markdown",
   "metadata": {},
   "source": [
    "__`LCM and HCF of two numbers`__"
   ]
  },
  {
   "cell_type": "code",
   "execution_count": 8,
   "metadata": {},
   "outputs": [
    {
     "name": "stdout",
     "output_type": "stream",
     "text": [
      "150 5\n"
     ]
    }
   ],
   "source": [
    "def find_GCD(a,b):\n",
    "    if a==0:\n",
    "        return b\n",
    "    return find_GCD(b%a,a)\n",
    "a,b=25,30\n",
    "HCF=find_GCD(min(a,b),max(a,b))\n",
    "LCM=a*b//HCF\n",
    "print(LCM,HCF)"
   ]
  },
  {
   "cell_type": "markdown",
   "metadata": {},
   "source": [
    "__`Trailing Zeros in Factorial`__"
   ]
  },
  {
   "cell_type": "code",
   "execution_count": 9,
   "metadata": {},
   "outputs": [
    {
     "data": {
      "text/plain": [
       "31"
      ]
     },
     "execution_count": 9,
     "metadata": {},
     "output_type": "execute_result"
    }
   ],
   "source": [
    "def find_zeros(n):\n",
    "    count = 0\n",
    "    i=5\n",
    "    while (n/i>=1): \n",
    "        count += int(n/i) \n",
    "        i *= 5\n",
    "    return count\n",
    "find_zeros(125)"
   ]
  },
  {
   "cell_type": "markdown",
   "metadata": {},
   "source": [
    "__`Find modular inverse`__"
   ]
  },
  {
   "cell_type": "code",
   "execution_count": 10,
   "metadata": {},
   "outputs": [
    {
     "data": {
      "text/plain": [
       "10"
      ]
     },
     "execution_count": 10,
     "metadata": {},
     "output_type": "execute_result"
    }
   ],
   "source": [
    "def modInverse(a, m) : \n",
    "    a = a % m; \n",
    "    for x in range(1, m) : \n",
    "        if ((a * x) % m == 1) : \n",
    "            return x \n",
    "    return 1\n",
    "modInverse(4,13)"
   ]
  },
  {
   "cell_type": "code",
   "execution_count": 11,
   "metadata": {},
   "outputs": [
    {
     "name": "stdout",
     "output_type": "stream",
     "text": [
      "Modular multiplicative inverse is 4\n"
     ]
    }
   ],
   "source": [
    "# Iterative Python 3 program to find \n",
    "# modular inverse using extended \n",
    "# Euclid algorithm \n",
    "\n",
    "# Returns modulo inverse of a with \n",
    "# respect to m using extended Euclid \n",
    "# Algorithm Assumption: a and m are \n",
    "# coprimes, i.e., gcd(a, m) = 1 \n",
    "def modInverse(a, m) : \n",
    "\tm0 = m \n",
    "\ty = 0\n",
    "\tx = 1\n",
    "\n",
    "\tif (m == 1) : \n",
    "\t\treturn 0\n",
    "\n",
    "\twhile (a > 1) : \n",
    "\n",
    "\t\t# q is quotient \n",
    "\t\tq = a // m \n",
    "\n",
    "\t\tt = m \n",
    "\n",
    "\t\t# m is remainder now, process \n",
    "\t\t# same as Euclid's algo \n",
    "\t\tm = a % m \n",
    "\t\ta = t \n",
    "\t\tt = y \n",
    "\n",
    "\t\t# Update x and y \n",
    "\t\ty = x - q * y \n",
    "\t\tx = t \n",
    "\n",
    "\n",
    "\t# Make x positive \n",
    "\tif (x < 0) : \n",
    "\t\tx = x + m0 \n",
    "\n",
    "\treturn x \n",
    "\n",
    "\n",
    "# Driver program to test above function \n",
    "a = 3\n",
    "m = 11\n",
    "print(\"Modular multiplicative inverse is\", \n",
    "\tmodInverse(a, m)) \n",
    " \n"
   ]
  },
  {
   "cell_type": "code",
   "execution_count": 12,
   "metadata": {},
   "outputs": [
    {
     "name": "stdout",
     "output_type": "stream",
     "text": [
      "Modular multiplicative inverse is  4\n"
     ]
    }
   ],
   "source": [
    "# Python3 program to find modular \n",
    "# inverse of a under modulo m \n",
    "\n",
    "# This program works only if m is prime. \n",
    "\n",
    "# Function to find modular \n",
    "# inverse of a under modulo m \n",
    "# Assumption: m is prime \n",
    "def modInverse(a, m) : \n",
    "\t\n",
    "\tg = gcd(a, m) \n",
    "\t\n",
    "\tif (g != 1) : \n",
    "\t\tprint(\"Inverse doesn't exist\") \n",
    "\t\t\n",
    "\telse : \n",
    "\t\t\n",
    "\t\t# If a and m are relatively prime, \n",
    "\t\t# then modulo inverse is a^(m-2) mode m \n",
    "\t\tprint(\"Modular multiplicative inverse is \", \n",
    "\t\t\t\t\t\t\t\t\tpower(a, m - 2, m)) \n",
    "\t\n",
    "# To compute x^y under modulo m \n",
    "def power(x, y, m) : \n",
    "\t\n",
    "\tif (y == 0) : \n",
    "\t\treturn 1\n",
    "\t\t\n",
    "\tp = power(x, y // 2, m) % m \n",
    "\tp = (p * p) % m \n",
    "\n",
    "\tif(y % 2 == 0) : \n",
    "\t\treturn p \n",
    "\telse : \n",
    "\t\treturn ((x * p) % m) \n",
    "\n",
    "# Function to return gcd of a and b \n",
    "def gcd(a, b) : \n",
    "\tif (a == 0) : \n",
    "\t\treturn b \n",
    "\t\t\n",
    "\treturn gcd(b % a, a) \n",
    "\n",
    "# Driver Program \n",
    "a = 3; m = 11\n",
    "modInverse(a, m) \n",
    " \n"
   ]
  },
  {
   "cell_type": "markdown",
   "metadata": {},
   "source": [
    "# Practice"
   ]
  },
  {
   "cell_type": "markdown",
   "metadata": {},
   "source": [
    "### Smallest divisible number "
   ]
  },
  {
   "cell_type": "code",
   "execution_count": 13,
   "metadata": {},
   "outputs": [
    {
     "data": {
      "text/plain": [
       "420"
      ]
     },
     "execution_count": 13,
     "metadata": {},
     "output_type": "execute_result"
    }
   ],
   "source": [
    "import math\n",
    "def getSmallestDivNum(n):\n",
    "    ans = 1\n",
    "    for i in range(1,n + 1): \n",
    "        ans = int((ans * i)/math.gcd(ans, i))\n",
    "    return ans \n",
    "getSmallestDivNum(7) \n",
    "#O(nlog(n))"
   ]
  },
  {
   "cell_type": "code",
   "execution_count": null,
   "metadata": {},
   "outputs": [],
   "source": [
    "# Python3 program to find LCM of \n",
    "# First N Natural Numbers. \n",
    "MAX = 100000; \n",
    "\n",
    "# array to store all prime less \n",
    "# than and equal to 10^6 \n",
    "primes = []; \n",
    "\n",
    "# utility function for \n",
    "# sieve of Eratosthenes \n",
    "def sieve(): \n",
    "\t\n",
    "\tisComposite = [False]*(MAX+1); \n",
    "\ti = 2; \n",
    "\twhile (i * i <= MAX): \n",
    "\t\tif (isComposite[i] == False): \n",
    "\t\t\tj = 2; \n",
    "\t\t\twhile (j * i <= MAX): \n",
    "\t\t\t\tisComposite[i * j] = True; \n",
    "\t\t\t\tj+=1; \n",
    "\t\ti+=1; \n",
    "\n",
    "\t# Store all prime numbers in \n",
    "\t# vector primes[] \n",
    "\tfor i in range(2,MAX+1): \n",
    "\t\tif (isComposite[i] == False): \n",
    "\t\t\tprimes.append(i); \n",
    "\n",
    "# Function to find LCM of \n",
    "# first n Natural Numbers \n",
    "def LCM(n): \n",
    "\n",
    "\tlcm = 1; \n",
    "\ti = 0; \n",
    "\twhile (i < len(primes) and primes[i] <= n): \n",
    "\t\t# Find the highest power of prime, \n",
    "\t\t# primes[i] that is less than or \n",
    "\t\t# equal to n \n",
    "\t\tpp = primes[i]; \n",
    "\t\twhile (pp * primes[i] <= n): \n",
    "\t\t\tpp = pp * primes[i]; \n",
    "\n",
    "\t\t# multiply lcm with highest \n",
    "\t\t# power of prime[i] \n",
    "\t\tlcm *= pp; \n",
    "\t\tlcm %= 1000000007; \n",
    "\t\ti+=1; \n",
    "\treturn lcm; \n",
    "\n",
    "# Driver code \n",
    "sieve(); \n",
    "N = 7; \n",
    "print(LCM(N)); \n",
    "\n"
   ]
  },
  {
   "cell_type": "markdown",
   "metadata": {},
   "source": [
    "### Addition Under Modulo"
   ]
  },
  {
   "cell_type": "code",
   "execution_count": 14,
   "metadata": {},
   "outputs": [
    {
     "data": {
      "text/plain": [
       "582344006"
      ]
     },
     "execution_count": 14,
     "metadata": {},
     "output_type": "execute_result"
    }
   ],
   "source": [
    "def sumUnderModulo(a,b):\n",
    "    '''\n",
    "    :param a: given value of a\n",
    "    :param b: given value of b\n",
    "    :return: Integer , sum under modulo\n",
    "    '''\n",
    "    M = 1000000007\n",
    "    return (a%M + b%M)%M\n",
    "sumUnderModulo(9223372036854775807,9223372036854775807)"
   ]
  },
  {
   "cell_type": "markdown",
   "metadata": {},
   "source": [
    "### Absolute Value"
   ]
  },
  {
   "cell_type": "code",
   "execution_count": 15,
   "metadata": {},
   "outputs": [
    {
     "data": {
      "text/plain": [
       "675"
      ]
     },
     "execution_count": 15,
     "metadata": {},
     "output_type": "execute_result"
    }
   ],
   "source": [
    "def absolute(I):\n",
    "    return -I if I<0 else I\n",
    "absolute(-675)"
   ]
  },
  {
   "cell_type": "markdown",
   "metadata": {},
   "source": [
    "### Digits In Factorial"
   ]
  },
  {
   "cell_type": "code",
   "execution_count": 16,
   "metadata": {},
   "outputs": [
    {
     "data": {
      "text/plain": [
       "(7, 3628800)"
      ]
     },
     "execution_count": 16,
     "metadata": {},
     "output_type": "execute_result"
    }
   ],
   "source": [
    "import math\n",
    "##Complete this function\n",
    "def digitsInFactorial(N):\n",
    "    fac=1\n",
    "    for i in range(2,N+1):\n",
    "        fac*=i\n",
    "    return math.floor(math.log10(fac))+1,fac\n",
    "digitsInFactorial(10)"
   ]
  },
  {
   "cell_type": "markdown",
   "metadata": {},
   "source": [
    "### Primality Test"
   ]
  },
  {
   "cell_type": "code",
   "execution_count": 17,
   "metadata": {},
   "outputs": [],
   "source": [
    "##Complete this function\n",
    "def isPrime(N):\n",
    "    if N==2:\n",
    "        return True\n",
    "    if N&1==0:\n",
    "        return False\n",
    "    for i in range(3,int(N**0.5+1)+1,2):\n",
    "        if N%i==0:\n",
    "            return False\n",
    "    return True"
   ]
  },
  {
   "cell_type": "code",
   "execution_count": 18,
   "metadata": {},
   "outputs": [
    {
     "data": {
      "text/plain": [
       "4"
      ]
     },
     "execution_count": 18,
     "metadata": {},
     "output_type": "execute_result"
    }
   ],
   "source": [
    "# function to check the numbers with exactly 3 divisors\n",
    "def exct3(x):\n",
    "    L=set(range(2,x+1))\n",
    "    s=[]\n",
    "    while L:\n",
    "        prime=min(L)\n",
    "        s.append(prime)\n",
    "        L-=set(range(prime,x+1,prime))\n",
    "    c=0\n",
    "    for i in s:\n",
    "        if i*i<=x:\n",
    "            c+=1\n",
    "        else:\n",
    "            break\n",
    "    return c\n",
    "exct3(100)\n",
    "            \n",
    "        \n",
    "\n",
    "        \n",
    "        \n",
    "        \n"
   ]
  },
  {
   "cell_type": "code",
   "execution_count": 19,
   "metadata": {},
   "outputs": [],
   "source": [
    "def isPrime(N):\n",
    "    if (N==1):\n",
    "        return False\n",
    "    for i in range(2,1+int(math.sqrt(N))):\n",
    "        if N%i==0:\n",
    "            return False\n",
    "    return True\n",
    "    \n",
    "# function to check the numbers with exactly 3 divisors\n",
    "def exactly3Divisors(N):\n",
    "    N = int(math.sqrt(N))\n",
    "    counter=0 #Initializing counter to zero\n",
    "    for i in range(1,N+1): #Running a loop from 1 to N\n",
    "    \n",
    "        #  A number N only has 3 divisors if it is a perfect square and its square root is a prime number,\n",
    "        #  and we know the number of perfect squares less than N which is sqrt(N),\n",
    "        #  so just checking if i is prime or not\n",
    "        if(isPrime(i)): \n",
    "            counter+=1\n",
    "    return counter"
   ]
  },
  {
   "cell_type": "code",
   "execution_count": 20,
   "metadata": {},
   "outputs": [
    {
     "data": {
      "text/plain": [
       "4"
      ]
     },
     "execution_count": 20,
     "metadata": {},
     "output_type": "execute_result"
    }
   ],
   "source": [
    "exactly3Divisors(100)"
   ]
  },
  {
   "cell_type": "code",
   "execution_count": null,
   "metadata": {},
   "outputs": [],
   "source": []
  }
 ],
 "metadata": {
  "kernelspec": {
   "display_name": "Python 3",
   "language": "python",
   "name": "python3"
  },
  "language_info": {
   "codemirror_mode": {
    "name": "ipython",
    "version": 3
   },
   "file_extension": ".py",
   "mimetype": "text/x-python",
   "name": "python",
   "nbconvert_exporter": "python",
   "pygments_lexer": "ipython3",
   "version": "3.8.3"
  }
 },
 "nbformat": 4,
 "nbformat_minor": 4
}
