{
 "cells": [
  {
   "cell_type": "markdown",
   "metadata": {},
   "source": [
    "# Operations"
   ]
  },
  {
   "cell_type": "markdown",
   "metadata": {},
   "source": [
    "## Searching"
   ]
  },
  {
   "cell_type": "code",
   "execution_count": 1,
   "metadata": {},
   "outputs": [
    {
     "data": {
      "text/plain": [
       "4"
      ]
     },
     "execution_count": 1,
     "metadata": {},
     "output_type": "execute_result"
    }
   ],
   "source": [
    "#linear search #unsorted array \n",
    "def linear_search(arr,x):\n",
    "    for i in range(len(arr)):\n",
    "        if x==arr[i]:\n",
    "            return i\n",
    "    return -1\n",
    "linear_search([1,2,5,3,8],8)\n",
    "#O(n) time"
   ]
  },
  {
   "cell_type": "code",
   "execution_count": 2,
   "metadata": {},
   "outputs": [
    {
     "data": {
      "text/plain": [
       "4"
      ]
     },
     "execution_count": 2,
     "metadata": {},
     "output_type": "execute_result"
    }
   ],
   "source": [
    "#binary serach #sorted array\n",
    "def binary_search(arr,x):\n",
    "    l=0\n",
    "    r=len(arr)-1\n",
    "    while(l<=r):\n",
    "        mid=(l+r)//2\n",
    "        if arr[mid]==x:\n",
    "            return mid\n",
    "        elif arr[mid]>x:\n",
    "            r=mid-1\n",
    "        else:\n",
    "            l=mid+1\n",
    "    return -1\n",
    "binary_search([1,2,3,4,5,6],5)\n",
    "#O(log(n))"
   ]
  },
  {
   "cell_type": "markdown",
   "metadata": {},
   "source": [
    "## Insertion"
   ]
  },
  {
   "cell_type": "code",
   "execution_count": 3,
   "metadata": {},
   "outputs": [
    {
     "data": {
      "text/plain": [
       "[1, 4, 3, 7, 9]"
      ]
     },
     "execution_count": 3,
     "metadata": {},
     "output_type": "execute_result"
    }
   ],
   "source": [
    "#insert at last\n",
    "def insert_last(arr,x):\n",
    "    arr.append(x)\n",
    "    return arr\n",
    "insert_last([1,4,3,7],9)\n",
    "#O(1)"
   ]
  },
  {
   "cell_type": "code",
   "execution_count": 4,
   "metadata": {},
   "outputs": [
    {
     "data": {
      "text/plain": [
       "[1, 2, 3, 4, 5]"
      ]
     },
     "execution_count": 4,
     "metadata": {},
     "output_type": "execute_result"
    }
   ],
   "source": [
    "#insert at beg\n",
    "def insert_beg(arr,x):\n",
    "    for i in range(len(arr)-1,0,-1):\n",
    "        arr[i]=arr[i-1]\n",
    "    arr[0]=x\n",
    "    return arr\n",
    "insert_beg([2,3,4,5,\"\"],1) # \"\" represent empty space to perform the insertion\n",
    "#@(n)"
   ]
  },
  {
   "cell_type": "code",
   "execution_count": 5,
   "metadata": {},
   "outputs": [
    {
     "data": {
      "text/plain": [
       "[1, 3, 5, 6, 7, 9, 4]"
      ]
     },
     "execution_count": 5,
     "metadata": {},
     "output_type": "execute_result"
    }
   ],
   "source": [
    "#insert at k\n",
    "def insert_k(arr,x,k):\n",
    "    for i in range(len(arr)-1,k,-1):\n",
    "        arr[i]=arr[i-1]\n",
    "    arr[k]=x\n",
    "    return arr\n",
    "insert_k([1,3,5,7,9,4,\"\"],6,3)\n",
    "#O(n)"
   ]
  },
  {
   "cell_type": "markdown",
   "metadata": {},
   "source": [
    "## Deletion "
   ]
  },
  {
   "cell_type": "code",
   "execution_count": 6,
   "metadata": {},
   "outputs": [
    {
     "data": {
      "text/plain": [
       "[1, 2, 4, 5]"
      ]
     },
     "execution_count": 6,
     "metadata": {},
     "output_type": "execute_result"
    }
   ],
   "source": [
    "#delete at k\n",
    "def delete_k(arr,k):\n",
    "    for i in range(k,len(arr)-1):\n",
    "        arr[i]=arr[i+1]\n",
    "    arr.pop()\n",
    "    return arr\n",
    "delete_k([1,2,3,4,5],2)"
   ]
  },
  {
   "cell_type": "markdown",
   "metadata": {},
   "source": [
    "# Basic Problems"
   ]
  },
  {
   "cell_type": "markdown",
   "metadata": {},
   "source": [
    "### Largest Element and its index"
   ]
  },
  {
   "cell_type": "code",
   "execution_count": 7,
   "metadata": {},
   "outputs": [],
   "source": [
    "def largest_arr(arr):\n",
    "    l=arr[0]\n",
    "    idx=0\n",
    "    for i in range(1,len(arr)):\n",
    "        if arr[i]>l:\n",
    "            l=arr[i]\n",
    "            idx=i\n",
    "    return l,arr,idx"
   ]
  },
  {
   "cell_type": "code",
   "execution_count": 8,
   "metadata": {},
   "outputs": [
    {
     "data": {
      "text/plain": [
       "(9, [2, 7, 4, 9, 5], 3)"
      ]
     },
     "execution_count": 8,
     "metadata": {},
     "output_type": "execute_result"
    }
   ],
   "source": [
    "largest_arr([2,7,4,9,5])"
   ]
  },
  {
   "cell_type": "markdown",
   "metadata": {},
   "source": [
    "### Second Largest Element "
   ]
  },
  {
   "cell_type": "code",
   "execution_count": 9,
   "metadata": {},
   "outputs": [
    {
     "data": {
      "text/plain": [
       "(7, [2, 7, 4, 9, 5, 9], 1)"
      ]
     },
     "execution_count": 9,
     "metadata": {},
     "output_type": "execute_result"
    }
   ],
   "source": [
    "def sec_lar_arr(arr):\n",
    "    l=arr[0]\n",
    "    idx_l=0\n",
    "    sl=-1\n",
    "    idx_sl=-1\n",
    "    for i in range(1,len(arr)):\n",
    "        if arr[i]>l:\n",
    "            sl=l\n",
    "            idx_sl=idx_l\n",
    "            l=arr[i]\n",
    "            idx_l=i\n",
    "        elif arr[i]<l:\n",
    "            if sl<arr[i]:\n",
    "                sl=arr[i]\n",
    "                idx_sl=i\n",
    "    return sl , arr , idx_sl\n",
    "sec_lar_arr([2,7,4,9,5,9])\n",
    "            "
   ]
  },
  {
   "cell_type": "markdown",
   "metadata": {},
   "source": [
    "### Move All zero to the end"
   ]
  },
  {
   "cell_type": "code",
   "execution_count": 10,
   "metadata": {},
   "outputs": [
    {
     "data": {
      "text/plain": [
       "[4, 2, 1, 3, 0, 0, 0, 0, 0]"
      ]
     },
     "execution_count": 10,
     "metadata": {},
     "output_type": "execute_result"
    }
   ],
   "source": [
    "def move_zero(arr):\n",
    "    non_zero_count=0\n",
    "    for i in range(len(arr)):\n",
    "        if arr[i]!=0:\n",
    "            arr[i],arr[non_zero_count]=arr[non_zero_count],arr[i]\n",
    "            non_zero_count+=1\n",
    "    return arr\n",
    "move_zero([4,2,0,0,0,1,0,3,0])\n",
    "            \n",
    "        "
   ]
  },
  {
   "cell_type": "markdown",
   "metadata": {},
   "source": [
    "### Reverse an array"
   ]
  },
  {
   "cell_type": "code",
   "execution_count": 11,
   "metadata": {},
   "outputs": [
    {
     "data": {
      "text/plain": [
       "[5, 4, 6, 3, 2, 1]"
      ]
     },
     "execution_count": 11,
     "metadata": {},
     "output_type": "execute_result"
    }
   ],
   "source": [
    "def reverse_it(arr):\n",
    "    l=0\n",
    "    r=len(arr)-1\n",
    "    while(l<r):\n",
    "        arr[l],arr[r]=arr[r],arr[l]\n",
    "        l+=1\n",
    "        r-=1\n",
    "    return arr\n",
    "reverse_it([1,2,3,6,4,5])"
   ]
  },
  {
   "cell_type": "markdown",
   "metadata": {},
   "source": [
    "### Left Rotation by 1"
   ]
  },
  {
   "cell_type": "code",
   "execution_count": 13,
   "metadata": {},
   "outputs": [
    {
     "data": {
      "text/plain": [
       "[2, 3, 4, 5, 1]"
      ]
     },
     "execution_count": 13,
     "metadata": {},
     "output_type": "execute_result"
    }
   ],
   "source": [
    "def left_rotaion_1(arr):\n",
    "    temp=arr[0]\n",
    "    for i in range(1,len(arr)):\n",
    "        arr[i-1]=arr[i]\n",
    "    arr[len(arr)-1]=temp\n",
    "    return arr\n",
    "left_rotaion_1([1,2,3,4,5])"
   ]
  },
  {
   "cell_type": "markdown",
   "metadata": {},
   "source": [
    "### Left Rotation by k"
   ]
  },
  {
   "cell_type": "code",
   "execution_count": 20,
   "metadata": {},
   "outputs": [
    {
     "data": {
      "text/plain": [
       "[1, 2, 3, 4, 5, 6]"
      ]
     },
     "execution_count": 20,
     "metadata": {},
     "output_type": "execute_result"
    }
   ],
   "source": [
    "def left_rotation_k(arr,d):\n",
    "    if d>=len(arr):\n",
    "        d=d%len(arr)\n",
    "    a=arr[:d]\n",
    "    for i in range(d,len(arr)):\n",
    "        arr[i-d]=arr[i]\n",
    "    for i in range(0,d):\n",
    "        arr[len(arr)-d+i]=a[i]\n",
    "    return arr\n",
    "left_rotation_k([1,2,3,4,5,6],6)"
   ]
  },
  {
   "cell_type": "code",
   "execution_count": 22,
   "metadata": {},
   "outputs": [
    {
     "data": {
      "text/plain": [
       "[4, 5, 6, 1, 2, 3]"
      ]
     },
     "execution_count": 22,
     "metadata": {},
     "output_type": "execute_result"
    }
   ],
   "source": [
    "def reverse(arr,l,r):\n",
    "    while(l<r):\n",
    "        arr[l],arr[r]=arr[r],arr[l]\n",
    "        l+=1\n",
    "        r-=1\n",
    "    return arr\n",
    "    \n",
    "def left_rotation_k_op(arr,d):\n",
    "    reverse(arr,0,d-1)\n",
    "    reverse(arr,d,len(arr)-1)\n",
    "    reverse(arr,0,len(arr)-1)\n",
    "    return arr\n",
    "left_rotation_k_op([1,2,3,4,5,6],3)"
   ]
  },
  {
   "cell_type": "code",
   "execution_count": null,
   "metadata": {},
   "outputs": [],
   "source": []
  }
 ],
 "metadata": {
  "kernelspec": {
   "display_name": "Python 3",
   "language": "python",
   "name": "python3"
  },
  "language_info": {
   "codemirror_mode": {
    "name": "ipython",
    "version": 3
   },
   "file_extension": ".py",
   "mimetype": "text/x-python",
   "name": "python",
   "nbconvert_exporter": "python",
   "pygments_lexer": "ipython3",
   "version": "3.8.3"
  }
 },
 "nbformat": 4,
 "nbformat_minor": 4
}
