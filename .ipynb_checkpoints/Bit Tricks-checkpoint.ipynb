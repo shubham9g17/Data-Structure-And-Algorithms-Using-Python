{
 "cells": [
  {
   "cell_type": "markdown",
   "metadata": {},
   "source": [
    "# Learn"
   ]
  },
  {
   "cell_type": "markdown",
   "metadata": {},
   "source": [
    "__`To set a bit in the number num`__"
   ]
  },
  {
   "cell_type": "code",
   "execution_count": 1,
   "metadata": {},
   "outputs": [
    {
     "name": "stdout",
     "output_type": "stream",
     "text": [
      "37\n",
      "53\n"
     ]
    }
   ],
   "source": [
    "num=0b100101\n",
    "k=4\n",
    "print(num)\n",
    "print(1<<k | num)"
   ]
  },
  {
   "cell_type": "markdown",
   "metadata": {},
   "source": [
    "__`To unset a bit in the number num`__"
   ]
  },
  {
   "cell_type": "code",
   "execution_count": 2,
   "metadata": {},
   "outputs": [
    {
     "name": "stdout",
     "output_type": "stream",
     "text": [
      "37\n",
      "36\n"
     ]
    }
   ],
   "source": [
    "k=0\n",
    "print(num)\n",
    "print(~(1<<k) & num )"
   ]
  },
  {
   "cell_type": "markdown",
   "metadata": {},
   "source": [
    "__`To Toggle a bit in the number num`__"
   ]
  },
  {
   "cell_type": "code",
   "execution_count": 3,
   "metadata": {},
   "outputs": [
    {
     "name": "stdout",
     "output_type": "stream",
     "text": [
      "37\n",
      "36\n"
     ]
    }
   ],
   "source": [
    "k=0\n",
    "print(num)\n",
    "print((1<<k) ^ num)"
   ]
  },
  {
   "cell_type": "markdown",
   "metadata": {},
   "source": [
    "__`To check whether a bit at nth index is set or unset`__"
   ]
  },
  {
   "cell_type": "code",
   "execution_count": 4,
   "metadata": {},
   "outputs": [
    {
     "name": "stdout",
     "output_type": "stream",
     "text": [
      "0b100101\n",
      "0\n"
     ]
    }
   ],
   "source": [
    "k=4\n",
    "print(bin(num))\n",
    "print(1<<k & num)"
   ]
  },
  {
   "cell_type": "markdown",
   "metadata": {},
   "source": [
    "__`Multiply by 2`__\n"
   ]
  },
  {
   "cell_type": "code",
   "execution_count": 5,
   "metadata": {},
   "outputs": [
    {
     "data": {
      "text/plain": [
       "40"
      ]
     },
     "execution_count": 5,
     "metadata": {},
     "output_type": "execute_result"
    }
   ],
   "source": [
    "num=10\n",
    "num<<2"
   ]
  },
  {
   "cell_type": "markdown",
   "metadata": {},
   "source": [
    "__`Divide by 2`__"
   ]
  },
  {
   "cell_type": "code",
   "execution_count": 6,
   "metadata": {},
   "outputs": [
    {
     "data": {
      "text/plain": [
       "9"
      ]
     },
     "execution_count": 6,
     "metadata": {},
     "output_type": "execute_result"
    }
   ],
   "source": [
    "num=36\n",
    "num>>2"
   ]
  },
  {
   "cell_type": "markdown",
   "metadata": {},
   "source": [
    "__`Find log2 of num`__"
   ]
  },
  {
   "cell_type": "code",
   "execution_count": 7,
   "metadata": {},
   "outputs": [
    {
     "name": "stdout",
     "output_type": "stream",
     "text": [
      "3\n"
     ]
    }
   ],
   "source": [
    "count=-1\n",
    "num=15\n",
    "while num:\n",
    "    num>>=1\n",
    "    count+=1\n",
    "print(count)"
   ]
  },
  {
   "cell_type": "markdown",
   "metadata": {},
   "source": [
    "__`fliping the bit of num`__"
   ]
  },
  {
   "cell_type": "code",
   "execution_count": 13,
   "metadata": {},
   "outputs": [
    {
     "name": "stdout",
     "output_type": "stream",
     "text": [
      "0b101 5\n"
     ]
    }
   ],
   "source": [
    "num=10 \n",
    "import math \n",
    "def invertBits(num): \n",
    "    # calculating number of bits \n",
    "    # in the number \n",
    "    x = int(math.log2(num)) + 1\n",
    "    # Inverting the bits one by one \n",
    "    for i in range(x): \n",
    "        num = (num ^ (1 << i)) \n",
    "    print(bin(num),num) \n",
    "    \n",
    "invertBits(num) "
   ]
  },
  {
   "cell_type": "markdown",
   "metadata": {},
   "source": [
    "__`Swaping two no.s`__"
   ]
  },
  {
   "cell_type": "code",
   "execution_count": 9,
   "metadata": {},
   "outputs": [
    {
     "name": "stdout",
     "output_type": "stream",
     "text": [
      "20 10\n"
     ]
    }
   ],
   "source": [
    "a=10\n",
    "b=20\n",
    "a=a^b\n",
    "b=a^b\n",
    "a=a^b\n",
    "print(a,b)"
   ]
  },
  {
   "cell_type": "markdown",
   "metadata": {},
   "source": [
    "### Basic Problems"
   ]
  },
  {
   "cell_type": "markdown",
   "metadata": {},
   "source": [
    "__`Check the number is a power of 2`__"
   ]
  },
  {
   "cell_type": "code",
   "execution_count": 17,
   "metadata": {},
   "outputs": [
    {
     "data": {
      "text/plain": [
       "True"
      ]
     },
     "execution_count": 17,
     "metadata": {},
     "output_type": "execute_result"
    }
   ],
   "source": [
    "def pow2(x):\n",
    "    return not x & x-1 \n",
    "pow2(32)"
   ]
  },
  {
   "cell_type": "markdown",
   "metadata": {},
   "source": [
    "__`Find the most significant bit of the number`__"
   ]
  },
  {
   "cell_type": "code",
   "execution_count": 20,
   "metadata": {},
   "outputs": [
    {
     "data": {
      "text/plain": [
       "5"
      ]
     },
     "execution_count": 20,
     "metadata": {},
     "output_type": "execute_result"
    }
   ],
   "source": [
    "def find_msb(x):\n",
    "    return math.floor(math.log2(x))+1\n",
    "find_msb(31)"
   ]
  },
  {
   "cell_type": "markdown",
   "metadata": {},
   "source": [
    "__`Given a number N find the xor of all numbers from 1 to N`__"
   ]
  },
  {
   "cell_type": "code",
   "execution_count": 21,
   "metadata": {},
   "outputs": [
    {
     "data": {
      "text/plain": [
       "1"
      ]
     },
     "execution_count": 21,
     "metadata": {},
     "output_type": "execute_result"
    }
   ],
   "source": [
    "def Xor_all(x):\n",
    "    d = x % 4\n",
    "    if d==0:\n",
    "        return x\n",
    "    elif d==1:\n",
    "        return 1\n",
    "    elif d==2:\n",
    "        return x+1\n",
    "    else:\n",
    "        return 0\n",
    "Xor_all(5)\n",
    "    "
   ]
  },
  {
   "cell_type": "markdown",
   "metadata": {},
   "source": [
    "__`Count Set bit in a number`__"
   ]
  },
  {
   "cell_type": "code",
   "execution_count": 25,
   "metadata": {},
   "outputs": [
    {
     "data": {
      "text/plain": [
       "4"
      ]
     },
     "execution_count": 25,
     "metadata": {},
     "output_type": "execute_result"
    }
   ],
   "source": [
    "def count_setbit(n):\n",
    "    c=0\n",
    "    while(n):\n",
    "        n&=n-1\n",
    "        c+=1\n",
    "    return c\n",
    "count_setbit(45)\n",
    "        "
   ]
  },
  {
   "cell_type": "code",
   "execution_count": 29,
   "metadata": {},
   "outputs": [],
   "source": [
    "setbit={}\n",
    "for i in range(256):\n",
    "    setbit[i]=count_setbit(i)\n",
    "#for 32 bit\n",
    "def Count_set_op(x):\n",
    "    return setbit[x&0xff] + setbit[x>>8 & 0xff] + setbit[x>>16 & 0xff] + setbit[x>>24 & 0xff]\n",
    "\n",
    "    "
   ]
  },
  {
   "cell_type": "code",
   "execution_count": 41,
   "metadata": {},
   "outputs": [
    {
     "name": "stdout",
     "output_type": "stream",
     "text": [
      "584 ns ± 35.5 ns per loop (mean ± std. dev. of 7 runs, 1000000 loops each)\n"
     ]
    }
   ],
   "source": [
    "%%timeit\n",
    "Count_set_op(1234562232)"
   ]
  },
  {
   "cell_type": "code",
   "execution_count": 42,
   "metadata": {},
   "outputs": [
    {
     "name": "stdout",
     "output_type": "stream",
     "text": [
      "2.3 µs ± 303 ns per loop (mean ± std. dev. of 7 runs, 1000000 loops each)\n"
     ]
    }
   ],
   "source": [
    "%%timeit\n",
    "count_setbit(1234562232)"
   ]
  },
  {
   "cell_type": "markdown",
   "metadata": {},
   "source": [
    "__`Find odd occuring No. in the array`__"
   ]
  },
  {
   "cell_type": "code",
   "execution_count": 46,
   "metadata": {},
   "outputs": [
    {
     "data": {
      "text/plain": [
       "6"
      ]
     },
     "execution_count": 46,
     "metadata": {},
     "output_type": "execute_result"
    }
   ],
   "source": [
    "def find_odd(arr):\n",
    "    for i in arr:\n",
    "        count=0\n",
    "        for j in arr:\n",
    "            if i==j:\n",
    "                count+=1\n",
    "        if count % 2==1:\n",
    "            return i\n",
    "    return 0\n",
    "find_odd([1,2,3,4,5,5,4,3,2,1,6])            "
   ]
  },
  {
   "cell_type": "code",
   "execution_count": 47,
   "metadata": {},
   "outputs": [
    {
     "data": {
      "text/plain": [
       "6"
      ]
     },
     "execution_count": 47,
     "metadata": {},
     "output_type": "execute_result"
    }
   ],
   "source": [
    "def find_odd_op(arr):\n",
    "    xor=0\n",
    "    for i in arr:\n",
    "        xor^=i\n",
    "    return xor\n",
    "find_odd_op([1,2,3,4,5,5,4,3,2,1,6])        "
   ]
  },
  {
   "cell_type": "markdown",
   "metadata": {},
   "source": [
    "__`Find missing no from an array of 1-n`__"
   ]
  },
  {
   "cell_type": "code",
   "execution_count": 50,
   "metadata": {},
   "outputs": [
    {
     "data": {
      "text/plain": [
       "7"
      ]
     },
     "execution_count": 50,
     "metadata": {},
     "output_type": "execute_result"
    }
   ],
   "source": [
    "def find_missing_1(arr):\n",
    "    n=len(arr)+1\n",
    "    sum1=n*(n+1)//2\n",
    "    return sum1-sum(arr)\n",
    "find_missing_1([1,2,3,4,5,6])"
   ]
  },
  {
   "cell_type": "code",
   "execution_count": 54,
   "metadata": {},
   "outputs": [
    {
     "data": {
      "text/plain": [
       "7"
      ]
     },
     "execution_count": 54,
     "metadata": {},
     "output_type": "execute_result"
    }
   ],
   "source": [
    "def find_missing_2(arr):\n",
    "    n=len(arr)+1\n",
    "    d = n % 4\n",
    "    if d==0:\n",
    "        xor1= n\n",
    "    elif d==1:\n",
    "        xor1= 1\n",
    "    elif d==2:\n",
    "        xor1= n+1\n",
    "    else:\n",
    "        xor1= 0\n",
    "    xor=0\n",
    "    for i in arr:\n",
    "        xor^=i\n",
    "    return xor ^ xor1\n",
    "find_missing_2([1,2,3,4,5,6])    "
   ]
  },
  {
   "cell_type": "markdown",
   "metadata": {},
   "source": [
    "__`Find Two odd occuring numbers in an array`__"
   ]
  },
  {
   "cell_type": "code",
   "execution_count": 12,
   "metadata": {},
   "outputs": [
    {
     "data": {
      "text/plain": [
       "(6, 5)"
      ]
     },
     "execution_count": 12,
     "metadata": {},
     "output_type": "execute_result"
    }
   ],
   "source": [
    "import math\n",
    "def find_two_odd(arr):\n",
    "    xor=0\n",
    "    for i in arr:\n",
    "        xor^=i\n",
    "    k=math.floor(math.log2(xor) )#checking msb bit that is 1 \n",
    "    #if want to check with lsb that is 1 use xor & ~(xor-1) in place of xor it is better for bigger values of arr\n",
    "    xor_1=0\n",
    "    xor_2=0\n",
    "    for i in arr:\n",
    "        if i & 1<<k:\n",
    "            xor_1^=i\n",
    "        else:\n",
    "            xor_2^=i\n",
    "    return xor_1,xor_2\n",
    "find_two_odd([1,2,3,4,5,3,2,1,4,6])\n",
    "        "
   ]
  },
  {
   "cell_type": "markdown",
   "metadata": {},
   "source": [
    "__`Generate Power Set using Bit Tricks`__"
   ]
  },
  {
   "cell_type": "code",
   "execution_count": 29,
   "metadata": {},
   "outputs": [
    {
     "name": "stdout",
     "output_type": "stream",
     "text": [
      "['', 'a', 'b', 'ab', 'c', 'ac', 'bc', 'abc', 'd', 'ad', 'bd', 'abd', 'cd', 'acd', 'bcd', 'abcd']\n"
     ]
    }
   ],
   "source": [
    "n=[\"a\",\"b\",\"c\",\"d\"]\n",
    "l=[]\n",
    "for i in range(2**len(n)):\n",
    "    L=[]\n",
    "    for j in range(len(n)):\n",
    "        if (i & 1<<j):\n",
    "            L.append(n[j])\n",
    "    l.append(\"\".join(L))\n",
    "\n",
    "#l.sort(key=len)\n",
    "#l.sort\n",
    "print(l)"
   ]
  },
  {
   "cell_type": "code",
   "execution_count": null,
   "metadata": {},
   "outputs": [],
   "source": []
  }
 ],
 "metadata": {
  "kernelspec": {
   "display_name": "Python 3",
   "language": "python",
   "name": "python3"
  },
  "language_info": {
   "codemirror_mode": {
    "name": "ipython",
    "version": 3
   },
   "file_extension": ".py",
   "mimetype": "text/x-python",
   "name": "python",
   "nbconvert_exporter": "python",
   "pygments_lexer": "ipython3",
   "version": "3.8.3"
  }
 },
 "nbformat": 4,
 "nbformat_minor": 4
}
