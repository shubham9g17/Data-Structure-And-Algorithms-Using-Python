{
 "cells": [
  {
   "cell_type": "markdown",
   "metadata": {},
   "source": [
    "## Operations on Array"
   ]
  },
  {
   "cell_type": "markdown",
   "metadata": {},
   "source": [
    "### Search"
   ]
  },
  {
   "cell_type": "code",
   "execution_count": 1,
   "metadata": {},
   "outputs": [],
   "source": [
    "def LinearSearch(arr,x):\n",
    "    index=-1\n",
    "    for i in range(len(arr)):\n",
    "        if arr[i] == x:\n",
    "            index = i\n",
    "            break\n",
    "    if index == -1:\n",
    "        print(\"Not Found\")\n",
    "    else:\n",
    "        print(\"Found At index \",index)    "
   ]
  },
  {
   "cell_type": "code",
   "execution_count": 2,
   "metadata": {},
   "outputs": [
    {
     "name": "stdout",
     "output_type": "stream",
     "text": [
      "Found At index  2\n"
     ]
    }
   ],
   "source": [
    "LinearSearch([1,3,7,3,6,9],7)"
   ]
  },
  {
   "cell_type": "code",
   "execution_count": 3,
   "metadata": {},
   "outputs": [
    {
     "name": "stdout",
     "output_type": "stream",
     "text": [
      "Not Found\n"
     ]
    }
   ],
   "source": [
    "LinearSearch([1,3,7,3,6,9],8)"
   ]
  },
  {
   "cell_type": "markdown",
   "metadata": {},
   "source": [
    "### Insert"
   ]
  },
  {
   "cell_type": "code",
   "execution_count": 25,
   "metadata": {},
   "outputs": [],
   "source": [
    "def insert_at_ith(arr,x,index):\n",
    "    arr.append(\"X\")\n",
    "    for i in range(len(arr)-1,index,-1):\n",
    "        arr[i]=arr[i-1]\n",
    "    arr[index]=x\n",
    "    print(arr)    "
   ]
  },
  {
   "cell_type": "code",
   "execution_count": 26,
   "metadata": {},
   "outputs": [
    {
     "name": "stdout",
     "output_type": "stream",
     "text": [
      "[2, 3, 4, 5]\n"
     ]
    }
   ],
   "source": [
    "insert_at_ith([2,3,4],5,3)  # \"*\" represent free space in array"
   ]
  },
  {
   "cell_type": "code",
   "execution_count": 27,
   "metadata": {},
   "outputs": [
    {
     "name": "stdout",
     "output_type": "stream",
     "text": [
      "[1, 2, 3, 4]\n"
     ]
    }
   ],
   "source": [
    "insert_at_ith([2,3,4],1,0)"
   ]
  },
  {
   "cell_type": "code",
   "execution_count": 28,
   "metadata": {},
   "outputs": [
    {
     "name": "stdout",
     "output_type": "stream",
     "text": [
      "[2, 3, 100, 4]\n"
     ]
    }
   ],
   "source": [
    "insert_at_ith([2,3,4],100,2)"
   ]
  },
  {
   "cell_type": "markdown",
   "metadata": {},
   "source": [
    "### Delete"
   ]
  },
  {
   "cell_type": "code",
   "execution_count": 23,
   "metadata": {},
   "outputs": [],
   "source": [
    "def delete_x(arr,x):\n",
    "    flag=False\n",
    "    for i in range(len(arr)):\n",
    "        if x == arr[i]:\n",
    "            flag=True\n",
    "            index=i\n",
    "    if flag:\n",
    "        for i in range(index+1,len(arr)):\n",
    "            arr[i-1]=arr[i]\n",
    "        print(\"Element Deleted\")\n",
    "        arr.pop()\n",
    "        print(arr)\n",
    "    else:\n",
    "        print(\"Element Not found\")\n"
   ]
  },
  {
   "cell_type": "code",
   "execution_count": 24,
   "metadata": {},
   "outputs": [
    {
     "name": "stdout",
     "output_type": "stream",
     "text": [
      "Element Deleted\n",
      "[1, 2, 3, 4]\n"
     ]
    }
   ],
   "source": [
    "delete_x([1,2,3,4,5],5)"
   ]
  },
  {
   "cell_type": "markdown",
   "metadata": {},
   "source": [
    "## Largest Element"
   ]
  },
  {
   "cell_type": "code",
   "execution_count": 1,
   "metadata": {},
   "outputs": [],
   "source": [
    "def largest_element(arr):\n",
    "    lar=arr[0]\n",
    "    lar_index=0\n",
    "    for i in range(1,len(arr)):\n",
    "        if arr[i]>lar:\n",
    "            lar=arr[i]\n",
    "            lar_index=i\n",
    "    print(\"Largest Element is {} Present at index {}\".format(lar,lar_index))\n"
   ]
  },
  {
   "cell_type": "code",
   "execution_count": 3,
   "metadata": {},
   "outputs": [
    {
     "name": "stdout",
     "output_type": "stream",
     "text": [
      "Largest Element is 50 Present at index 2\n"
     ]
    }
   ],
   "source": [
    "largest_element([1,2,50,3,4])"
   ]
  },
  {
   "cell_type": "markdown",
   "metadata": {},
   "source": [
    "## Second Largest Element"
   ]
  },
  {
   "cell_type": "code",
   "execution_count": 8,
   "metadata": {},
   "outputs": [],
   "source": [
    "def second_largest_element(arr):\n",
    "    lar=arr[0]\n",
    "    lar_i=0\n",
    "    sec_lar=-9999\n",
    "    sec_lar_i=-1\n",
    "    for i in range(len(arr)):\n",
    "        if arr[i]>lar:\n",
    "            sec_lar=lar\n",
    "            sec_lar_i=lar_i\n",
    "            \n",
    "            lar=arr[i]\n",
    "            lar_i=i\n",
    "        elif arr[i]<lar:\n",
    "            if arr[i]>sec_lar:\n",
    "                sec_lar=arr[i]\n",
    "                sec_lar_i=i\n",
    "        else:\n",
    "            pass\n",
    "    print(\"Second Largest Element is {} Present at index {}\".format(sec_lar,sec_lar_i))"
   ]
  },
  {
   "cell_type": "code",
   "execution_count": 10,
   "metadata": {},
   "outputs": [
    {
     "name": "stdout",
     "output_type": "stream",
     "text": [
      "Second Largest Element is 3 Present at index 2\n"
     ]
    }
   ],
   "source": [
    "second_largest_element([1,2,3,4])"
   ]
  },
  {
   "cell_type": "code",
   "execution_count": 11,
   "metadata": {},
   "outputs": [
    {
     "name": "stdout",
     "output_type": "stream",
     "text": [
      "Second Largest Element is 4 Present at index 3\n"
     ]
    }
   ],
   "source": [
    "second_largest_element([1,2,3,4,5,5])"
   ]
  },
  {
   "cell_type": "code",
   "execution_count": 12,
   "metadata": {},
   "outputs": [
    {
     "name": "stdout",
     "output_type": "stream",
     "text": [
      "Second Largest Element is 4 Present at index 2\n"
     ]
    }
   ],
   "source": [
    "second_largest_element([1,2,4,3,4,5,5])"
   ]
  },
  {
   "cell_type": "markdown",
   "metadata": {},
   "source": [
    "## Left Rotation by one"
   ]
  },
  {
   "cell_type": "code",
   "execution_count": 25,
   "metadata": {},
   "outputs": [],
   "source": [
    "def left_rotate(arr):\n",
    "    #print(\"Array Before Rotation\",arr)\n",
    "    temp=arr[0]\n",
    "    for i in range(1,len(arr)):\n",
    "        arr[i-1]=arr[i]\n",
    "    arr[len(arr)-1]=temp\n",
    "    #print(\"Array Before Rotation\",arr)\n",
    "    \n",
    "    "
   ]
  },
  {
   "cell_type": "code",
   "execution_count": 22,
   "metadata": {},
   "outputs": [
    {
     "name": "stdout",
     "output_type": "stream",
     "text": [
      "Array Before Rotation [1, 2, 3, 4]\n",
      "Array After rotation [2, 3, 4, 1]\n"
     ]
    }
   ],
   "source": [
    "left_rotate([1,2,3,4])"
   ]
  },
  {
   "cell_type": "markdown",
   "metadata": {},
   "source": [
    "## Left Rotation by d\n"
   ]
  },
  {
   "cell_type": "code",
   "execution_count": 26,
   "metadata": {},
   "outputs": [],
   "source": [
    "# Method-1\n",
    "def left_rotate_by_d_m1(arr,d):\n",
    "    print(\"Array Before Rotation\",arr)\n",
    "    for i in range(d):\n",
    "        left_rotate(arr)\n",
    "    print(\"Array Before Rotation\",arr)\n",
    "    "
   ]
  },
  {
   "cell_type": "code",
   "execution_count": 27,
   "metadata": {},
   "outputs": [
    {
     "name": "stdout",
     "output_type": "stream",
     "text": [
      "Array Before Rotation [1, 2, 3, 4, 5]\n",
      "Array Before Rotation [4, 5, 1, 2, 3]\n"
     ]
    }
   ],
   "source": [
    "left_rotate_by_d_m1([1,2,3,4,5],3)"
   ]
  },
  {
   "cell_type": "code",
   "execution_count": 45,
   "metadata": {},
   "outputs": [],
   "source": [
    "# Method-2\n",
    "def left_rotate_by_d_m2(arr,d):\n",
    "    print(\"Array Before Rotation\",arr)\n",
    "    temp=arr[:d]\n",
    "    for i in range(d,len(arr)):\n",
    "        arr[i-d]=arr[i]\n",
    "    for i in range(d):\n",
    "        arr[len(arr)-d+i]=temp[i]\n",
    "    print(\"Array After Rotation\",arr)\n",
    "    \n",
    "    "
   ]
  },
  {
   "cell_type": "code",
   "execution_count": 46,
   "metadata": {},
   "outputs": [
    {
     "name": "stdout",
     "output_type": "stream",
     "text": [
      "Array Before Rotation [1, 2, 3, 4, 5]\n",
      "Array After Rotation [4, 5, 1, 2, 3]\n"
     ]
    }
   ],
   "source": [
    "left_rotate_by_d_m2([1,2,3,4,5],3)"
   ]
  },
  {
   "cell_type": "code",
   "execution_count": 43,
   "metadata": {},
   "outputs": [],
   "source": [
    "# Method-3\n",
    "def left_rotate_by_d_m3(arr,d):\n",
    "    print(\"Array Before Rotation\",arr)\n",
    "    reverse(arr,0,d-1)\n",
    "    reverse(arr,d,len(arr)-1)\n",
    "    reverse(arr,0,len(arr)-1)\n",
    "    print(\"Array After Rotation\",arr)"
   ]
  },
  {
   "cell_type": "code",
   "execution_count": 44,
   "metadata": {},
   "outputs": [
    {
     "name": "stdout",
     "output_type": "stream",
     "text": [
      "Array Before Rotation [1, 2, 3, 4, 5]\n",
      "Array After Rotation [4, 5, 1, 2, 3]\n"
     ]
    }
   ],
   "source": [
    "left_rotate_by_d_m3([1,2,3,4,5],3)"
   ]
  },
  {
   "cell_type": "markdown",
   "metadata": {},
   "source": [
    "## Reverse"
   ]
  },
  {
   "cell_type": "code",
   "execution_count": 41,
   "metadata": {},
   "outputs": [],
   "source": [
    "def reverse(arr,start,end):\n",
    "    while(start<end):\n",
    "        arr[start],arr[end]=arr[end],arr[start]\n",
    "        start+=1\n",
    "        end-=1\n",
    "    #print(arr)"
   ]
  },
  {
   "cell_type": "code",
   "execution_count": 36,
   "metadata": {},
   "outputs": [
    {
     "name": "stdout",
     "output_type": "stream",
     "text": [
      "[5, 4, 3, 2, 1]\n"
     ]
    }
   ],
   "source": [
    "reverse([1,2,3,4,5],0,4)"
   ]
  },
  {
   "cell_type": "code",
   "execution_count": 37,
   "metadata": {},
   "outputs": [
    {
     "name": "stdout",
     "output_type": "stream",
     "text": [
      "[6, 5, 4, 3, 2, 1]\n"
     ]
    }
   ],
   "source": [
    "reverse([1,2,3,4,5,6],0,5)"
   ]
  },
  {
   "cell_type": "code",
   "execution_count": null,
   "metadata": {},
   "outputs": [],
   "source": []
  }
 ],
 "metadata": {
  "kernelspec": {
   "display_name": "Python 3",
   "language": "python",
   "name": "python3"
  },
  "language_info": {
   "codemirror_mode": {
    "name": "ipython",
    "version": 3
   },
   "file_extension": ".py",
   "mimetype": "text/x-python",
   "name": "python",
   "nbconvert_exporter": "python",
   "pygments_lexer": "ipython3",
   "version": "3.8.3"
  }
 },
 "nbformat": 4,
 "nbformat_minor": 4
}
