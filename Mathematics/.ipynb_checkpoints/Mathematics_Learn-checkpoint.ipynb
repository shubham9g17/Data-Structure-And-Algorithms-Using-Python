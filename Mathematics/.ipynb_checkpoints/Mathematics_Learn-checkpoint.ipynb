{
 "cells": [
  {
   "cell_type": "markdown",
   "metadata": {},
   "source": [
    "# Most Common Asked Questions"
   ]
  },
  {
   "cell_type": "markdown",
   "metadata": {},
   "source": [
    "__`Calculate No. of digits in a number`__"
   ]
  },
  {
   "cell_type": "code",
   "execution_count": 1,
   "metadata": {},
   "outputs": [
    {
     "data": {
      "text/plain": [
       "4"
      ]
     },
     "execution_count": 1,
     "metadata": {},
     "output_type": "execute_result"
    }
   ],
   "source": [
    "def no_digits(n):\n",
    "    if n==0:     #for the testcase if no is 0\n",
    "        return 1\n",
    "    count=0\n",
    "    while(n!=0):\n",
    "        n=n//10  #reducing the number by 10\n",
    "        count+=1 #counter\n",
    "    return count\n",
    "no_digits(1321)\n",
    "# O(count) time        \n",
    " \n",
    "    "
   ]
  },
  {
   "cell_type": "code",
   "execution_count": 2,
   "metadata": {},
   "outputs": [
    {
     "data": {
      "text/plain": [
       "4"
      ]
     },
     "execution_count": 2,
     "metadata": {},
     "output_type": "execute_result"
    }
   ],
   "source": [
    "import math\n",
    "def no_digits_OP(n):\n",
    "    if n==0:\n",
    "        return 1\n",
    "    return math.floor(math.log10(n))+1 #formula to count digit in an integer (base-10)\n",
    "\n",
    "no_digits_OP(2113)  \n",
    "# O(1) Time"
   ]
  },
  {
   "cell_type": "markdown",
   "metadata": {},
   "source": [
    "__`Calculate the nth term and sum of the AP`__"
   ]
  },
  {
   "cell_type": "code",
   "execution_count": 3,
   "metadata": {},
   "outputs": [
    {
     "data": {
      "text/plain": [
       "15.0"
      ]
     },
     "execution_count": 3,
     "metadata": {},
     "output_type": "execute_result"
    }
   ],
   "source": [
    "def AP_nth(a,d,n):\n",
    "    return a+d*(n-1) #formula for nth term\n",
    "def AP_sum(a,d,n):\n",
    "    return (n/2*(a+ AP_nth(a,d,n))) #formula for sum upto nth terms\n",
    "AP_sum(1,1,5)"
   ]
  },
  {
   "cell_type": "markdown",
   "metadata": {},
   "source": [
    "__`Calculate the nth term and sum of the GP`__"
   ]
  },
  {
   "cell_type": "code",
   "execution_count": 4,
   "metadata": {},
   "outputs": [
    {
     "name": "stdout",
     "output_type": "stream",
     "text": [
      "1600\n",
      "3100.0\n"
     ]
    }
   ],
   "source": [
    "def GP_nth(a,r,n):\n",
    "    return a*r**(n-1) #formula for nth term\n",
    "def GP_sum(a,r,n): #formula for sum upto nth terms\n",
    "    if r>0:\n",
    "        return a*(r**n-1)/(r-1) \n",
    "    else:\n",
    "        return a*(1-r**n)/(1-r)\n",
    "print(GP_nth(100,2,5))\n",
    "print(GP_sum(100,2,5))"
   ]
  },
  {
   "cell_type": "markdown",
   "metadata": {},
   "source": [
    "__`Calculate the roots of a Quadratic Eqn`__"
   ]
  },
  {
   "cell_type": "code",
   "execution_count": 5,
   "metadata": {},
   "outputs": [
    {
     "name": "stdout",
     "output_type": "stream",
     "text": [
      "3 1\n"
     ]
    }
   ],
   "source": [
    "import math\n",
    "def quadraticRoots(a,b,c):\n",
    "    is_imaginary=False\n",
    "    D=(b**2)-4*a*c #Calculating Determinant\n",
    "    \n",
    "    if D<0: #Checking for Real roots\n",
    "        is_imaginary=True\n",
    "    if is_imaginary:\n",
    "         print(\"Imaginary\")\n",
    "         \n",
    "    else:\n",
    "        a,b=math.floor((-b+D**0.5)/(2.0*a)),math.floor((-b-D**0.5)/(2.0*a)) #formula for finding roots\n",
    "        \n",
    "        print(max(a,b),min(a,b)) #printing in order from bigger root to smaller root\n",
    "quadraticRoots(1,-4,3)"
   ]
  },
  {
   "cell_type": "markdown",
   "metadata": {},
   "source": [
    "__`Calculate mean,median,mode`__"
   ]
  },
  {
   "cell_type": "code",
   "execution_count": 6,
   "metadata": {},
   "outputs": [
    {
     "name": "stdout",
     "output_type": "stream",
     "text": [
      "3.5\n",
      "3.5\n",
      "3\n"
     ]
    }
   ],
   "source": [
    "import statistics\n",
    "def find_mean(L):\n",
    "    return sum(L)/len(L) #average \n",
    "def find_median(L):\n",
    "    L.sort() #to find the median\n",
    "    if(len(L)&1==0):#even\n",
    "        return (L[len(L)//2-1]+L[len(L)//2])/2\n",
    "    if(len(L)&1==1):\n",
    "        return L[len(L)//2]\n",
    "def find_mode(L):\n",
    "    return statistics.mode(L)\n",
    "print(find_mean([3,4,5,6,2,1]))\n",
    "print(find_median([3,4,5,6,2,1]))\n",
    "print(find_mode([3,4,5,6,2,1]))    "
   ]
  },
  {
   "cell_type": "markdown",
   "metadata": {},
   "source": [
    "__`Generate Prime number between given Range`__"
   ]
  },
  {
   "cell_type": "code",
   "execution_count": 7,
   "metadata": {},
   "outputs": [
    {
     "data": {
      "text/plain": [
       "8363"
      ]
     },
     "execution_count": 7,
     "metadata": {},
     "output_type": "execute_result"
    }
   ],
   "source": [
    "def generate_prime(L,H): \n",
    "    s1=set(range(2,L)) #using sieve of erastosis algorithm to find prime no.s upto a value\n",
    "    s2=set(range(2,H+1))\n",
    "    S1=set()\n",
    "    S2=set()\n",
    "    while s1:\n",
    "        prime=min(s1)\n",
    "        S1.add(prime) # set of prime numbers upto H \n",
    "        s1-=set(range(prime,L,prime))\n",
    "    while s2:\n",
    "        prime=min(s2)\n",
    "        S2.add(prime)\n",
    "        s2-=set(range(prime,H+1,prime))\n",
    "    return len(S2-S1) #between L and H\n",
    "    \n",
    "        \n",
    "generate_prime(10000,100000)    "
   ]
  },
  {
   "cell_type": "markdown",
   "metadata": {},
   "source": [
    "__`LCM and HCF of two numbers`__"
   ]
  },
  {
   "cell_type": "code",
   "execution_count": 20,
   "metadata": {},
   "outputs": [
    {
     "name": "stdout",
     "output_type": "stream",
     "text": [
      "150 5\n"
     ]
    }
   ],
   "source": [
    "def find_GCD(a,b): #euler algorithm to find gcd of two numbers\n",
    "    if a==0:\n",
    "        return b\n",
    "    return find_GCD(b%a,a)\n",
    "a,b=25,30\n",
    "HCF=find_GCD(a,b)\n",
    "LCM=a*b//HCF #formula for finding LCM\n",
    "print(LCM,HCF)"
   ]
  },
  {
   "cell_type": "markdown",
   "metadata": {},
   "source": [
    "__`Trailing Zeros in Factorial`__"
   ]
  },
  {
   "cell_type": "code",
   "execution_count": 1,
   "metadata": {},
   "outputs": [
    {
     "data": {
      "text/plain": [
       "28"
      ]
     },
     "execution_count": 1,
     "metadata": {},
     "output_type": "execute_result"
    }
   ],
   "source": [
    "def find_zeros(n): #aptitude method to find factorial\n",
    "    count = 0      #120! contains 120//5 + 120//25 + 120//125 --->> 24+4+0=28\n",
    "    i=5\n",
    "    while (n/i>=1): \n",
    "        count += int(n/i) \n",
    "        i *= 5\n",
    "    return count\n",
    "find_zeros(120)"
   ]
  },
  {
   "cell_type": "markdown",
   "metadata": {},
   "source": [
    "__`Find modular inverse`__"
   ]
  },
  {
   "cell_type": "code",
   "execution_count": 2,
   "metadata": {},
   "outputs": [
    {
     "data": {
      "text/plain": [
       "10"
      ]
     },
     "execution_count": 2,
     "metadata": {},
     "output_type": "execute_result"
    }
   ],
   "source": [
    "def modInverse(a, m) : \n",
    "    a = a % m #to minimize computations \n",
    "    for x in range(1, m) : #finding the value of x such that (a*x)%m==1 \n",
    "        if ((a * x) % m == 1) : \n",
    "            return x \n",
    "    return 1\n",
    "modInverse(4,13)"
   ]
  },
  {
   "cell_type": "code",
   "execution_count": 9,
   "metadata": {},
   "outputs": [
    {
     "data": {
      "text/plain": [
       "10"
      ]
     },
     "execution_count": 9,
     "metadata": {},
     "output_type": "execute_result"
    }
   ],
   "source": [
    "# Iterative Python 3 program to find \n",
    "# modular inverse using extended \n",
    "# Euclid algorithm \n",
    "\n",
    "# Returns modulo inverse of a with \n",
    "# respect to m using extended Euclid \n",
    "# Algorithm Assumption: a and m are \n",
    "# coprimes, i.e., gcd(a, m) = 1 \n",
    "def modInverse(a, m) : \n",
    "    m0 = m \n",
    "    y = 0\n",
    "    x = 1\n",
    "    if (m == 1) : \n",
    "        return 0\n",
    "    while (a > 1) : \n",
    "        # q is quotient \n",
    "        q = a // m \n",
    "        t = m \n",
    "        # m is remainder now, process \n",
    "        # same as Euclid's algo \n",
    "        m = a % m \n",
    "        a = t \n",
    "        t = y \n",
    "        # Update x and y \n",
    "        y = x - q * y \n",
    "        x = t \n",
    "    # Make x positive \n",
    "    if (x < 0) : \n",
    "        x = x + m0 \n",
    "    return x \n",
    " \n",
    "modInverse(4,13) \n",
    " \n"
   ]
  },
  {
   "cell_type": "code",
   "execution_count": 17,
   "metadata": {},
   "outputs": [
    {
     "data": {
      "text/plain": [
       "9"
      ]
     },
     "execution_count": 17,
     "metadata": {},
     "output_type": "execute_result"
    }
   ],
   "source": [
    "# Python3 program to find modular \n",
    "# inverse of a under modulo m \n",
    "\n",
    "# This program works only if m is prime. \n",
    "\n",
    "# Function to find modular \n",
    "# inverse of a under modulo m \n",
    "# Assumption: m is prime \n",
    "def modInverse(a, m) : \n",
    "    g = gcd(a, m) \n",
    "    if (g != 1) : \n",
    "        return \"Inverse doesn't exist\" \n",
    "    else : \n",
    "        # If a and m are relatively prime, \n",
    "        # then modulo inverse is a^(m-2) mode m \n",
    "        return power(a, m - 2, m) \n",
    "\n",
    "# To compute x^y under modulo m \n",
    "def power(x, y, m) : \n",
    "    if (y == 0) : \n",
    "        return 1\n",
    "    p = power(x, y // 2, m) % m \n",
    "    p = (p * p) % m \n",
    "    if(y % 2 == 0) : \n",
    "        return p \n",
    "    else : \n",
    "        return ((x * p) % m) \n",
    "\n",
    "# Function to return gcd of a and b \n",
    "def gcd(a, b) : \n",
    "    if (a == 0) : \n",
    "        return b \n",
    "    return gcd(b % a, a) \n",
    "\n",
    "\n",
    "modInverse(16,13) "
   ]
  },
  {
   "cell_type": "markdown",
   "metadata": {},
   "source": [
    "### Primality Test"
   ]
  },
  {
   "cell_type": "code",
   "execution_count": 21,
   "metadata": {},
   "outputs": [
    {
     "data": {
      "text/plain": [
       "False"
      ]
     },
     "execution_count": 21,
     "metadata": {},
     "output_type": "execute_result"
    }
   ],
   "source": [
    "##Complete this function\n",
    "def isPrime(N):\n",
    "    if N==2:\n",
    "        return True\n",
    "    if N&1==0:\n",
    "        return False\n",
    "    for i in range(3,int(N**0.5+1)+1,2):\n",
    "        if N%i==0:\n",
    "            return False\n",
    "    return True\n",
    "isPrime(34)"
   ]
  }
 ],
 "metadata": {
  "kernelspec": {
   "display_name": "Python 3",
   "language": "python",
   "name": "python3"
  },
  "language_info": {
   "codemirror_mode": {
    "name": "ipython",
    "version": 3
   },
   "file_extension": ".py",
   "mimetype": "text/x-python",
   "name": "python",
   "nbconvert_exporter": "python",
   "pygments_lexer": "ipython3",
   "version": "3.8.3"
  }
 },
 "nbformat": 4,
 "nbformat_minor": 4
}
